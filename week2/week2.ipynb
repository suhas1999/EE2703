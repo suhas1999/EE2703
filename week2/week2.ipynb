{
 "cells": [
  {
   "cell_type": "code",
   "execution_count": 14,
   "metadata": {},
   "outputs": [
    {
     "name": "stdout",
     "output_type": "stream",
     "text": [
      "[['I1', 'GND', '1', '10'], ['R1', '1', '2', '2'], ['R2', '2', 'GND', '3'], ['R3', '2', '3', '5'], ['R4', '3', 'GND', '1']]\n"
     ]
    }
   ],
   "source": [
    "import numpy as np\n",
    "import math as math\n",
    "import cmath\n",
    "CIRCUIT = '.circuit'\n",
    "END = '.end'\n",
    "AC=\".ac\"\n",
    "ac=-1\n",
    "try:\n",
    "    with open(\"circuit1.netlist\") as f:\n",
    "        lines = f.readlines()\n",
    "        start = -1; end = -2\n",
    "        for line in lines:              # extracting circuit definition start and end lines\n",
    "            if CIRCUIT == line[:len(CIRCUIT)]:\n",
    "                start = lines.index(line)\n",
    "            if END == line[:len(END)]:\n",
    "                end = lines.index(line)\n",
    "            if AC == line[:len(AC)]:\n",
    "                ac = lines.index(line)\n",
    "        \n",
    "        if start >= end :# validating circuit block\n",
    "            print('Invalid circuit definition')\n",
    "            exit(0)\n",
    "except IOError:\n",
    "    print('Invalid file')\n",
    "    exit()\n",
    "reqd_lines = []\n",
    "freq_line=[]\n",
    "[reqd_lines.append(((line.split('#')[0].split()))) for line in lines[start+1:end]]\n",
    "if ac != -1:\n",
    "    freq_line.append(lines[ac].split(\"#\")[0].split())\n",
    "print(reqd_lines)"
   ]
  },
  {
   "cell_type": "code",
   "execution_count": 15,
   "metadata": {},
   "outputs": [],
   "source": [
    "if ac!=-1:\n",
    "    freq_of_circuit = int(freq_line[0][-1])\n",
    "    print(freq_of_circuit)"
   ]
  },
  {
   "cell_type": "code",
   "execution_count": 16,
   "metadata": {},
   "outputs": [],
   "source": [
    "class resistor(object):\n",
    "    def __init__(self,node1,node2,value):\n",
    "        \n",
    "        \n",
    "        self.node1 = node1\n",
    "        \n",
    "        self.node2 = node2\n",
    "        \n",
    "        self.value = float(value)\n"
   ]
  },
  {
   "cell_type": "code",
   "execution_count": 17,
   "metadata": {},
   "outputs": [],
   "source": [
    "class inductor(object):\n",
    "    if ac==-1:\n",
    "        def __init__(self,node1,node2,name,value):\n",
    "            self.node1 = node1\n",
    "            self.node2 = node2\n",
    "            self.value = 10e10\n",
    "    if ac!= -1:\n",
    "        def __init__(self,node1,node2,value):\n",
    "            self.node1 = node1\n",
    "            self.node2 = node2\n",
    "            self.value = complex(0,2*math.pi*float(value)*freq_of_circuit)\n",
    "    "
   ]
  },
  {
   "cell_type": "code",
   "execution_count": 18,
   "metadata": {},
   "outputs": [],
   "source": [
    "class capacitor(object):\n",
    "    if ac==-1:\n",
    "        def __init__(self,node1,node2,value):\n",
    "            self.node1 = node1\n",
    "            self.node2 = node2\n",
    "            self.value = 10e10\n",
    "    if ac!= -1:\n",
    "        def __init__(self,node1,node2,value):\n",
    "            self.node1 = node1\n",
    "            self.node2 = node2\n",
    "            self.value = complex(0,(-1/(2*math.pi*float(value)*freq_of_circuit)))"
   ]
  },
  {
   "cell_type": "code",
   "execution_count": 19,
   "metadata": {},
   "outputs": [],
   "source": [
    "class voltage(object):\n",
    "    if ac==-1:\n",
    "        def __init__(self,node1,node2,name,value):\n",
    "            self.node1 = node1\n",
    "            self.node2 = node2\n",
    "            self.value = float(value)\n",
    "    if ac!= -1:\n",
    "        def __init__(self,node1,node2,name,value,phase):\n",
    "            self.node1 = node1\n",
    "            self.node2 = node2\n",
    "            self.name = name\n",
    "            self.value = float(value)\n",
    "            self.phase = float(phase) * (math.pi/180)\n",
    "        "
   ]
  },
  {
   "cell_type": "code",
   "execution_count": 20,
   "metadata": {},
   "outputs": [],
   "source": [
    "class current(object):\n",
    "    if ac==-1:\n",
    "        def __init__(self,node1,node2,name,value):\n",
    "            self.node1 = node1\n",
    "            self.node2 = node2\n",
    "            self.name = name\n",
    "            self.value = float(value)\n",
    "    if ac!= -1:\n",
    "        def __init__(self,node1,node2,name,value,phase):\n",
    "            self.node1 = node1\n",
    "            self.node2 = node2\n",
    "            self.name = name\n",
    "            self.value = float(value)\n",
    "            self.phase = float(phase) * (math.pi/180)\n",
    "    \n",
    "        "
   ]
  },
  {
   "cell_type": "code",
   "execution_count": null,
   "metadata": {},
   "outputs": [],
   "source": []
  },
  {
   "cell_type": "code",
   "execution_count": null,
   "metadata": {},
   "outputs": [],
   "source": []
  },
  {
   "cell_type": "code",
   "execution_count": null,
   "metadata": {},
   "outputs": [],
   "source": []
  },
  {
   "cell_type": "code",
   "execution_count": 21,
   "metadata": {},
   "outputs": [
    {
     "name": "stdout",
     "output_type": "stream",
     "text": [
      "Expected format of dc current source is.......... I1 node1 node2 dc value\n"
     ]
    },
    {
     "ename": "KeyError",
     "evalue": "'I1'",
     "output_type": "error",
     "traceback": [
      "\u001b[0;31m---------------------------------------------------------------------------\u001b[0m",
      "\u001b[0;31mKeyError\u001b[0m                                  Traceback (most recent call last)",
      "\u001b[0;32m<ipython-input-21-f71d323c5fef>\u001b[0m in \u001b[0;36m<module>\u001b[0;34m()\u001b[0m\n\u001b[1;32m     38\u001b[0m         \u001b[0;32mif\u001b[0m \u001b[0mac\u001b[0m\u001b[0;34m!=\u001b[0m\u001b[0;34m-\u001b[0m\u001b[0;36m1\u001b[0m\u001b[0;34m:\u001b[0m\u001b[0;34m\u001b[0m\u001b[0m\n\u001b[1;32m     39\u001b[0m             \u001b[0mdic_of_elements\u001b[0m\u001b[0;34m[\u001b[0m\u001b[0ml\u001b[0m\u001b[0;34m[\u001b[0m\u001b[0;36m0\u001b[0m\u001b[0;34m]\u001b[0m\u001b[0;34m]\u001b[0m \u001b[0;34m=\u001b[0m \u001b[0mvoltage\u001b[0m\u001b[0;34m(\u001b[0m\u001b[0ml\u001b[0m\u001b[0;34m[\u001b[0m\u001b[0;36m1\u001b[0m\u001b[0;34m]\u001b[0m\u001b[0;34m,\u001b[0m\u001b[0ml\u001b[0m\u001b[0;34m[\u001b[0m\u001b[0;36m2\u001b[0m\u001b[0;34m]\u001b[0m\u001b[0;34m,\u001b[0m\u001b[0ml\u001b[0m\u001b[0;34m[\u001b[0m\u001b[0;36m3\u001b[0m\u001b[0;34m]\u001b[0m\u001b[0;34m,\u001b[0m\u001b[0ml\u001b[0m\u001b[0;34m[\u001b[0m\u001b[0;36m4\u001b[0m\u001b[0;34m]\u001b[0m\u001b[0;34m,\u001b[0m\u001b[0ml\u001b[0m\u001b[0;34m[\u001b[0m\u001b[0;36m5\u001b[0m\u001b[0;34m]\u001b[0m\u001b[0;34m)\u001b[0m\u001b[0;34m\u001b[0m\u001b[0m\n\u001b[0;32m---> 40\u001b[0;31m         \u001b[0mnodes\u001b[0m\u001b[0;34m.\u001b[0m\u001b[0mappend\u001b[0m\u001b[0;34m(\u001b[0m\u001b[0mdic_of_elements\u001b[0m\u001b[0;34m[\u001b[0m\u001b[0ml\u001b[0m\u001b[0;34m[\u001b[0m\u001b[0;36m0\u001b[0m\u001b[0;34m]\u001b[0m\u001b[0;34m]\u001b[0m\u001b[0;34m.\u001b[0m\u001b[0mnode1\u001b[0m\u001b[0;34m)\u001b[0m\u001b[0;34m\u001b[0m\u001b[0m\n\u001b[0m\u001b[1;32m     41\u001b[0m         \u001b[0mnodes\u001b[0m\u001b[0;34m.\u001b[0m\u001b[0mappend\u001b[0m\u001b[0;34m(\u001b[0m\u001b[0mdic_of_elements\u001b[0m\u001b[0;34m[\u001b[0m\u001b[0ml\u001b[0m\u001b[0;34m[\u001b[0m\u001b[0;36m0\u001b[0m\u001b[0;34m]\u001b[0m\u001b[0;34m]\u001b[0m\u001b[0;34m.\u001b[0m\u001b[0mnode2\u001b[0m\u001b[0;34m)\u001b[0m\u001b[0;34m\u001b[0m\u001b[0m\n\u001b[1;32m     42\u001b[0m \u001b[0;34m\u001b[0m\u001b[0m\n",
      "\u001b[0;31mKeyError\u001b[0m: 'I1'"
     ]
    }
   ],
   "source": [
    "dic_of_elements={}\n",
    "k=0\n",
    "nodes=[]\n",
    "volt_sources=[]\n",
    "for l in reqd_lines:\n",
    "    if l[0][0] == \"R\" :\n",
    "        dic_of_elements[l[0]] = resistor(l[1],l[2],l[3])\n",
    "        nodes.append(dic_of_elements[l[0]].node1)\n",
    "        nodes.append(dic_of_elements[l[0]].node2)\n",
    "    if l[0][0] == \"L\" :\n",
    "        dic_of_elements[l[0]] = inductor(l[1],l[2],l[3])\n",
    "        nodes.append(dic_of_elements[l[0]].node1)\n",
    "        nodes.append(dic_of_elements[l[0]].node2)\n",
    "        print(dic_of_elements[l[0]].value)\n",
    "    if l[0][0] == \"C\" :\n",
    "        dic_of_elements[l[0]] = capacitor(l[1],l[2],l[3])\n",
    "        print(dic_of_elements[l[0]].value)\n",
    "        nodes.append(dic_of_elements[l[0]].node1)\n",
    "        nodes.append(dic_of_elements[l[0]].node2)\n",
    "    if l[0][0] == \"V\" :\n",
    "        k=k+1\n",
    "        if ac==-1:\n",
    "            try:\n",
    "                dic_of_elements[l[0]] = voltage(l[1],l[2],l[3],l[4])\n",
    "            except Exception:\n",
    "                print(\"Expected format of dc voltage source is.......... V1 node1 node2 dc value\")\n",
    "        if ac!=-1:\n",
    "            dic_of_elements[l[0]] = voltage(l[1],l[2],l[3],l[4],l[5])\n",
    "        nodes.append(dic_of_elements[l[0]].node1)\n",
    "        nodes.append(dic_of_elements[l[0]].node2)\n",
    "        volt_sources.append(l[0])\n",
    "    if l[0][0] == \"I\" :\n",
    "        if ac==-1:\n",
    "            try:\n",
    "                dic_of_elements[l[0]] = voltage(l[1],l[2],l[3],l[4])\n",
    "            except Exception:\n",
    "                print(\"Expected format of dc current source is.......... I1 node1 node2 dc value\")\n",
    "        if ac!=-1:\n",
    "            dic_of_elements[l[0]] = voltage(l[1],l[2],l[3],l[4],l[5])\n",
    "        nodes.append(dic_of_elements[l[0]].node1)\n",
    "        nodes.append(dic_of_elements[l[0]].node2)\n",
    "    \n",
    "    \n",
    "    \n",
    "    \n",
    "        "
   ]
  },
  {
   "cell_type": "code",
   "execution_count": 9,
   "metadata": {},
   "outputs": [
    {
     "data": {
      "text/plain": [
       "{'V1': <__main__.voltage at 0x7fb8289724a8>,\n",
       " 'R1': <__main__.resistor at 0x7fb8289724e0>,\n",
       " 'L1': <__main__.inductor at 0x7fb828972518>,\n",
       " 'C1': <__main__.capacitor at 0x7fb828972550>,\n",
       " 'L2': <__main__.inductor at 0x7fb8289725f8>,\n",
       " 'R2': <__main__.resistor at 0x7fb828972630>}"
      ]
     },
     "execution_count": 9,
     "metadata": {},
     "output_type": "execute_result"
    }
   ],
   "source": [
    "g=dic_of_elements\n",
    "g\n"
   ]
  },
  {
   "cell_type": "code",
   "execution_count": 10,
   "metadata": {},
   "outputs": [],
   "source": [
    "nodes_list = list(set(nodes))\n",
    "volt_list = list(set(volt_sources))\n",
    "    "
   ]
  },
  {
   "cell_type": "code",
   "execution_count": 11,
   "metadata": {},
   "outputs": [
    {
     "data": {
      "text/plain": [
       "['GND', 'n4', 'n2', 'n3', 'n1']"
      ]
     },
     "execution_count": 11,
     "metadata": {},
     "output_type": "execute_result"
    }
   ],
   "source": [
    "nodes_list.remove('GND')\n",
    "nodes_final_list=['GND']+nodes_list\n",
    "nodes_final_list"
   ]
  },
  {
   "cell_type": "code",
   "execution_count": 12,
   "metadata": {},
   "outputs": [
    {
     "data": {
      "text/plain": [
       "['V1']"
      ]
     },
     "execution_count": 12,
     "metadata": {},
     "output_type": "execute_result"
    }
   ],
   "source": [
    "volt_list"
   ]
  },
  {
   "cell_type": "code",
   "execution_count": 13,
   "metadata": {},
   "outputs": [
    {
     "data": {
      "text/plain": [
       "1"
      ]
     },
     "execution_count": 13,
     "metadata": {},
     "output_type": "execute_result"
    }
   ],
   "source": [
    "k = len(volt_list)\n",
    "n=len(nodes_final_list)\n",
    "k"
   ]
  },
  {
   "cell_type": "code",
   "execution_count": 14,
   "metadata": {},
   "outputs": [],
   "source": [
    "M = np.zeros((n+k,n+k),dtype=complex)\n",
    "y = np.zeros((n+k,1),dtype=complex)"
   ]
  },
  {
   "cell_type": "code",
   "execution_count": 15,
   "metadata": {},
   "outputs": [],
   "source": [
    "a={}\n",
    "for i in nodes_final_list:\n",
    "    a[i]=[]\n",
    "    for l in reqd_lines:\n",
    "        if g[l[0]].node1 ==i or g[l[0]].node2 ==i :\n",
    "            a[i].append(l[0])"
   ]
  },
  {
   "cell_type": "code",
   "execution_count": 16,
   "metadata": {},
   "outputs": [
    {
     "data": {
      "text/plain": [
       "{'GND': ['V1', 'C1', 'R2'],\n",
       " 'n4': ['L2', 'R2'],\n",
       " 'n2': ['R1', 'L1'],\n",
       " 'n3': ['L1', 'C1', 'L2'],\n",
       " 'n1': ['V1', 'R1']}"
      ]
     },
     "execution_count": 16,
     "metadata": {},
     "output_type": "execute_result"
    }
   ],
   "source": [
    "a"
   ]
  },
  {
   "cell_type": "code",
   "execution_count": 17,
   "metadata": {},
   "outputs": [],
   "source": [
    "b={}\n",
    "d=0\n",
    "for key in nodes_final_list:\n",
    "    b[key]=d\n",
    "    d=d+1"
   ]
  },
  {
   "cell_type": "code",
   "execution_count": 18,
   "metadata": {},
   "outputs": [
    {
     "data": {
      "text/plain": [
       "{'GND': 0, 'n4': 1, 'n2': 2, 'n3': 3, 'n1': 4}"
      ]
     },
     "execution_count": 18,
     "metadata": {},
     "output_type": "execute_result"
    }
   ],
   "source": [
    "b"
   ]
  },
  {
   "cell_type": "code",
   "execution_count": 19,
   "metadata": {},
   "outputs": [],
   "source": [
    "e={}\n",
    "d=1\n",
    "for key in volt_list:\n",
    "    e[key]=d\n",
    "    d=d+1   "
   ]
  },
  {
   "cell_type": "code",
   "execution_count": 20,
   "metadata": {},
   "outputs": [
    {
     "data": {
      "text/plain": [
       "{'V1': 1}"
      ]
     },
     "execution_count": 20,
     "metadata": {},
     "output_type": "execute_result"
    }
   ],
   "source": [
    "e\n"
   ]
  },
  {
   "cell_type": "code",
   "execution_count": 21,
   "metadata": {},
   "outputs": [],
   "source": [
    "for key in a:\n",
    "    if b[key] == 0:\n",
    "        M[b[key]][0]=1\n",
    "    else:\n",
    "        for i in a[key]:\n",
    "            if i[0] == \"R\":\n",
    "                if b[g[i].node1] == b[key]:\n",
    "                    M[b[key]][b[g[i].node1]] += (1/g[i].value)\n",
    "                    M[b[key]][b[g[i].node2]] -= (1/g[i].value)\n",
    "                if b[g[i].node2] == b[key]:\n",
    "                    M[b[key]][b[g[i].node2]] += (1/g[i].value)\n",
    "                    M[b[key]][b[g[i].node1]] -= (1/g[i].value)\n",
    "            if i[0] == \"V\":\n",
    "                \n",
    "                temp =e[i]\n",
    "                if b[g[i].node1] == b[key]:\n",
    "                    M[b[key]][temp+n-1] += (-1)\n",
    "                if b[g[i].node2] == b[key]:\n",
    "                    M[b[key]][temp+n-1] += (1)\n",
    "            if i[0] ==\"I\":\n",
    "                if ac==-1:\n",
    "                    if b[g[i].node1] == b[key]:\n",
    "                        y[b[key]] += -g[i].value\n",
    "                    if b[g[i].node2] == b[key]:\n",
    "                        y[b[key]] += +g[i].value\n",
    "                if ac !=-1:\n",
    "                    if b[g[i].node1] == b[key]:\n",
    "                        y[b[key]] += (-g[i].value)*(1/(2*math.sqrt(2)))*(cmath.rect(1,g[i].phase))\n",
    "                    if b[g[i].node2] == b[key]:\n",
    "                        y[b[key]] += (+g[i].value)*(1/(2*math.sqrt(2)))*(cmath.rect(1,g[i].phase))\n",
    "            if i[0] ==\"L\":\n",
    "                if ac==-1:\n",
    "                    print(\"INductor not allowed give in dc case\")\n",
    "                    quit()\n",
    "                if ac!=-1:\n",
    "                    if b[g[i].node1] == b[key]:\n",
    "                        M[b[key]][b[g[i].node1]] += (1/g[i].value)\n",
    "                        M[b[key]][b[g[i].node2]] -= (1/g[i].value)\n",
    "                    if b[g[i].node2] == b[key]:\n",
    "                        M[b[key]][b[g[i].node2]] += (1/g[i].value)\n",
    "                        M[b[key]][b[g[i].node1]] -= (1/g[i].value)\n",
    "            if i[0] ==\"C\":\n",
    "                if ac==-1:\n",
    "                    print(\"Capacitor not allowed give in dc case\")\n",
    "                    quit()\n",
    "                if ac!=-1:\n",
    "                    if b[g[i].node1] == b[key]:\n",
    "                        M[b[key]][b[g[i].node1]] += (1/g[i].value)\n",
    "                        M[b[key]][b[g[i].node2]] -= (1/g[i].value)\n",
    "                    if b[g[i].node2] == b[key]:\n",
    "                        M[b[key]][b[g[i].node2]] += (1/g[i].value)\n",
    "                        M[b[key]][b[g[i].node1]] -= (1/g[i].value)\n",
    "                    \n",
    "                \n",
    "                "
   ]
  },
  {
   "cell_type": "code",
   "execution_count": 22,
   "metadata": {},
   "outputs": [],
   "source": [
    "for c in volt_list:\n",
    "    temp=e[c]\n",
    "    if ac==-1:\n",
    "        M[n+temp-1][b[g[c].node1]] = -1\n",
    "        M[n+temp-1][b[g[c].node2]] =  1\n",
    "        y[n+temp-1]=g[c].value\n",
    "    if ac!=-1:\n",
    "        M[n+temp-1][b[g[c].node1]] = -1\n",
    "        M[n+temp-1][b[g[c].node2]] =  1\n",
    "        y[n+temp-1]=(g[c].value)*(1/(2*math.sqrt(2)))*(cmath.rect(1,g[c].phase))\n",
    "        "
   ]
  },
  {
   "cell_type": "code",
   "execution_count": 23,
   "metadata": {},
   "outputs": [
    {
     "data": {
      "text/plain": [
       "array([[ 1.00000000e+00+0.00000000e+00j,  0.00000000e+00+0.00000000e+00j,\n",
       "         0.00000000e+00+0.00000000e+00j,  0.00000000e+00+0.00000000e+00j,\n",
       "         0.00000000e+00+0.00000000e+00j,  0.00000000e+00+0.00000000e+00j],\n",
       "       [-2.50000000e-04+0.00000000e+00j,  2.50000000e-04-1.96584663e+00j,\n",
       "         0.00000000e+00+0.00000000e+00j,  0.00000000e+00+1.96584663e+00j,\n",
       "         0.00000000e+00+0.00000000e+00j,  0.00000000e+00+0.00000000e+00j],\n",
       "       [ 0.00000000e+00+0.00000000e+00j,  0.00000000e+00+0.00000000e+00j,\n",
       "         2.22222222e-04-1.96584663e+00j,  0.00000000e+00+1.96584663e+00j,\n",
       "        -2.22222222e-04+0.00000000e+00j,  0.00000000e+00+0.00000000e+00j],\n",
       "       [ 0.00000000e+00-1.56137155e-08j,  0.00000000e+00+1.96584663e+00j,\n",
       "         0.00000000e+00+1.96584663e+00j,  0.00000000e+00-3.93169324e+00j,\n",
       "         0.00000000e+00+0.00000000e+00j,  0.00000000e+00+0.00000000e+00j],\n",
       "       [ 0.00000000e+00+0.00000000e+00j,  0.00000000e+00+0.00000000e+00j,\n",
       "        -2.22222222e-04+0.00000000e+00j,  0.00000000e+00+0.00000000e+00j,\n",
       "         2.22222222e-04+0.00000000e+00j,  1.00000000e+00+0.00000000e+00j],\n",
       "       [-1.00000000e+00+0.00000000e+00j,  0.00000000e+00+0.00000000e+00j,\n",
       "         0.00000000e+00+0.00000000e+00j,  0.00000000e+00+0.00000000e+00j,\n",
       "         1.00000000e+00+0.00000000e+00j,  0.00000000e+00+0.00000000e+00j]])"
      ]
     },
     "execution_count": 23,
     "metadata": {},
     "output_type": "execute_result"
    }
   ],
   "source": [
    "M"
   ]
  },
  {
   "cell_type": "code",
   "execution_count": null,
   "metadata": {},
   "outputs": [],
   "source": []
  },
  {
   "cell_type": "code",
   "execution_count": 24,
   "metadata": {},
   "outputs": [],
   "source": [
    "x=np.linalg.solve(M, y)"
   ]
  },
  {
   "cell_type": "code",
   "execution_count": 27,
   "metadata": {},
   "outputs": [
    {
     "name": "stdout",
     "output_type": "stream",
     "text": [
      "VOltage at GND   (array([0.+0.j]), 4)\n",
      "VOltage at n4   (array([0.16637806-2.54151349e-05j]), 4)\n",
      "VOltage at n2   (array([0.16637807+1.69020177e-05j]), 4)\n",
      "VOltage at n3   (array([0.16637807-4.25655862e-06j]), 4)\n",
      "VOltage at n1   (array([0.35355339+0.j]), 4)\n",
      "Current at V1i  (array([-4.1594516e-05+3.75600394e-09j]), 4)\n"
     ]
    }
   ],
   "source": [
    "i=0\n",
    "for k in b:\n",
    "    print(\"VOltage at \" +k + \"   \"+str((x[i],4)))\n",
    "    i = i+1\n",
    "for v in volt_list:\n",
    "    print(\"Current at \" +v+\"i\"+\"  \"+str((x[i],4)))"
   ]
  },
  {
   "cell_type": "code",
   "execution_count": 26,
   "metadata": {},
   "outputs": [
    {
     "data": {
      "text/plain": [
       "array([[ 0.00000000e+00+0.00000000e+00j],\n",
       "       [ 1.66378064e-01-2.54151349e-05j],\n",
       "       [ 1.66378069e-01+1.69020177e-05j],\n",
       "       [ 1.66378067e-01-4.25655862e-06j],\n",
       "       [ 3.53553391e-01+0.00000000e+00j],\n",
       "       [-4.15945160e-05+3.75600394e-09j]])"
      ]
     },
     "execution_count": 26,
     "metadata": {},
     "output_type": "execute_result"
    }
   ],
   "source": [
    "x"
   ]
  },
  {
   "cell_type": "code",
   "execution_count": null,
   "metadata": {},
   "outputs": [],
   "source": [
    "\n",
    "            "
   ]
  },
  {
   "cell_type": "code",
   "execution_count": null,
   "metadata": {},
   "outputs": [],
   "source": []
  },
  {
   "cell_type": "code",
   "execution_count": null,
   "metadata": {},
   "outputs": [],
   "source": []
  },
  {
   "cell_type": "code",
   "execution_count": null,
   "metadata": {},
   "outputs": [],
   "source": []
  },
  {
   "cell_type": "code",
   "execution_count": null,
   "metadata": {},
   "outputs": [],
   "source": []
  },
  {
   "cell_type": "code",
   "execution_count": null,
   "metadata": {},
   "outputs": [],
   "source": [
    "\n"
   ]
  },
  {
   "cell_type": "code",
   "execution_count": null,
   "metadata": {},
   "outputs": [],
   "source": []
  },
  {
   "cell_type": "code",
   "execution_count": null,
   "metadata": {},
   "outputs": [],
   "source": []
  },
  {
   "cell_type": "code",
   "execution_count": null,
   "metadata": {},
   "outputs": [],
   "source": []
  },
  {
   "cell_type": "code",
   "execution_count": null,
   "metadata": {},
   "outputs": [],
   "source": []
  },
  {
   "cell_type": "code",
   "execution_count": null,
   "metadata": {},
   "outputs": [],
   "source": []
  },
  {
   "cell_type": "code",
   "execution_count": null,
   "metadata": {},
   "outputs": [],
   "source": [
    "\n",
    "\n"
   ]
  },
  {
   "cell_type": "code",
   "execution_count": null,
   "metadata": {},
   "outputs": [],
   "source": []
  },
  {
   "cell_type": "code",
   "execution_count": null,
   "metadata": {},
   "outputs": [],
   "source": []
  },
  {
   "cell_type": "code",
   "execution_count": null,
   "metadata": {},
   "outputs": [],
   "source": []
  }
 ],
 "metadata": {
  "kernelspec": {
   "display_name": "Python 3",
   "language": "python",
   "name": "python3"
  },
  "language_info": {
   "codemirror_mode": {
    "name": "ipython",
    "version": 3
   },
   "file_extension": ".py",
   "mimetype": "text/x-python",
   "name": "python",
   "nbconvert_exporter": "python",
   "pygments_lexer": "ipython3",
   "version": "3.6.5"
  }
 },
 "nbformat": 4,
 "nbformat_minor": 2
}
